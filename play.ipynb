{
 "cells": [
  {
   "cell_type": "code",
   "execution_count": 1,
   "metadata": {},
   "outputs": [],
   "source": [
    "import os\n",
    "from postget.Posts import Posts\n",
    "from dotenv import load_dotenv\n",
    "\n",
    "load_dotenv();"
   ]
  },
  {
   "cell_type": "code",
   "execution_count": 2,
   "metadata": {},
   "outputs": [],
   "source": [
    "date_start = '2022-08-01'\n",
    "date_end = '2022-12-01'"
   ]
  },
  {
   "cell_type": "markdown",
   "metadata": {},
   "source": [
    "[Link to download Chromium](https://download-chromium.appspot.com) (if Chrome not already installed).\n",
    "\n",
    "[Link to download Chrome Driver](https://googlechromelabs.github.io/chrome-for-testing/#stable) (make sure it corresponds to your version of Chrome/Chromium). If you can't find your Chrome version there, look [here](https://googlechromelabs.github.io/chrome-for-testing/known-good-versions-with-downloads.json)."
   ]
  },
  {
   "cell_type": "code",
   "execution_count": 3,
   "metadata": {},
   "outputs": [
    {
     "name": "stdout",
     "output_type": "stream",
     "text": [
      "[postget]: You or your program started Postget, powered by\n",
      "██╗░░░░░░█████╗░███╗░░██╗██████╗░░█████╗░███╗░░░███╗██╗██╗░░██╗\n",
      "██║░░░░░██╔══██╗████╗░██║██╔══██╗██╔══██╗████╗░████║██║╚██╗██╔╝\n",
      "██║░░░░░███████║██╔██╗██║██║░░██║██║░░██║██╔████╔██║██║░╚███╔╝░\n",
      "██║░░░░░██╔══██║██║╚████║██║░░██║██║░░██║██║╚██╔╝██║██║░██╔██╗░\n",
      "███████╗██║░░██║██║░╚███║██████╔╝╚█████╔╝██║░╚═╝░██║██║██╔╝╚██╗\n",
      "╚══════╝╚═╝░░╚═╝╚═╝░░╚══╝╚═════╝░░╚════╝░╚═╝░░░░░╚═╝╚═╝╚═╝░░╚═╝\n"
     ]
    }
   ],
   "source": [
    "twitter = Posts(username=os.environ['TWITTER_USERNAME'],\n",
    "                password=os.environ['TWITTER_PASSWORD'],\n",
    "                email_address=os.environ['TWITTER_EMAIL'],\n",
    "                query='$TSLA',\n",
    "                since_time=date_start,\n",
    "                until_time=date_end,\n",
    "                wait_scroll_base=2,\n",
    "                wait_scroll_epsilon=2)"
   ]
  },
  {
   "cell_type": "code",
   "execution_count": 4,
   "metadata": {},
   "outputs": [
    {
     "name": "stdout",
     "output_type": "stream",
     "text": [
      "[postget]: Logging in\n",
      "<div dir=\"ltr\" class=\"css-146c3p1 r-bcqeeo r-qvutc0 r-1qd0xha r-q4m81j r-a023e6 r-rjixqe r-b88u0q r-1awozwy r-6koalj r-18u37iz r-16y2uox r-1777fci\" style=\"text-overflow: unset; color: rgb(15, 20, 25);\"><span class=\"css-1jxf684 r-dnmrzs r-1udh08x r-3s2u2q r-bcqeeo r-1ttztb7 r-qvutc0 r-poiln3 r-1inkyih r-rjixqe\" style=\"text-overflow: unset;\"><span class=\"css-1jxf684 r-bcqeeo r-1ttztb7 r-qvutc0 r-poiln3\" style=\"text-overflow: unset;\">Log in</span></span></div>\n",
      "[postget]: Logged in successfully\n"
     ]
    }
   ],
   "source": [
    "twitter.login()"
   ]
  },
  {
   "cell_type": "code",
   "execution_count": 5,
   "metadata": {},
   "outputs": [
    {
     "name": "stdout",
     "output_type": "stream",
     "text": [
      "[postget]: From now on, it may take a while, according to parameters.\n",
      "[postget]: Starting to input 'test since:2022-08-01 until:2022-12-01' in the searchbox\n",
      "[postget]: Search performed successfully, waiting first content to load. Waiting 3.11 seconds\n",
      "[postget]: Starting simplified search\n",
      "[postget]: Performing scroll 1 of 10\n",
      "[postget]: Hey wait ... This content seams interesting, I'll wait 1.58 seconds\n",
      "[postget]: Performing scroll 2 of 10\n",
      "[postget]: Hey wait ... This content seams interesting, I'll wait 3.65 seconds\n",
      "[postget]: Performing scroll 3 of 10\n",
      "[postget]: Hey wait ... This content seams interesting, I'll wait 2.53 seconds\n",
      "[postget]: Performing scroll 4 of 10\n",
      "[postget]: Hey wait ... This content seams interesting, I'll wait 2.84 seconds\n",
      "[postget]: Performing scroll 5 of 10\n",
      "[postget]: Hey wait ... This content seams interesting, I'll wait 3.66 seconds\n",
      "[postget]: Performing scroll 6 of 10\n",
      "[postget]: Hey wait ... This content seams interesting, I'll wait 3.09 seconds\n",
      "[postget]: Performing scroll 7 of 10\n",
      "[postget]: Hey wait ... This content seams interesting, I'll wait 3.53 seconds\n",
      "[postget]: Performing scroll 8 of 10\n",
      "[postget]: Hey wait ... This content seams interesting, I'll wait 1.35 seconds\n",
      "[postget]: Performing scroll 9 of 10\n",
      "[postget]: Hey wait ... This content seams interesting, I'll wait 3.09 seconds\n",
      "[postget]: Performing scroll 10 of 10\n",
      "[postget]: Hey wait ... This content seams interesting, I'll wait 2.2 seconds\n"
     ]
    }
   ],
   "source": [
    "twitter.set_query('test')\n",
    "twitter.search()"
   ]
  },
  {
   "cell_type": "code",
   "execution_count": 8,
   "metadata": {},
   "outputs": [
    {
     "name": "stdout",
     "output_type": "stream",
     "text": [
      "[postget]: Hey hey ... here are the images:\n",
      "           https://pbs.twimg.com/media/FhSvHMAWAAEMJv9?format=jpg&name=small\n",
      "           https://pbs.twimg.com/media/FhjXfoEWIAMBdSm?format=jpg&name=small\n",
      "           https://pbs.twimg.com/media/FgqjhglXEAMvCDf?format=jpg&name=small\n",
      "           and here the videos:\n",
      "           https://pbs.twimg.com/ext_tw_video_thumb/1585977716163153925/pu/img/iqoqhGP7VayPJNMe.jpg\n",
      "           https://pbs.twimg.com/ext_tw_video_thumb/1597125187719364608/pu/img/VGQOdZdd6pvw_ZCp.jpg\n",
      "           https://pbs.twimg.com/ext_tw_video_thumb/1588555467030151173/pu/img/dsauc_7KD_84I5_g.jpg\n",
      "           https://pbs.twimg.com/ext_tw_video_thumb/1592238244162424833/pu/img/GIlwinbfExA9sZIT.jpg\n",
      "           https://pbs.twimg.com/ext_tw_video_thumb/1596419119322103809/pu/img/nQTrW97eI5RkEsRo.jpg\n",
      "           https://pbs.twimg.com/ext_tw_video_thumb/1586840526950637570/pu/img/qBwCHEp97vJj8i8a.jpg\n",
      "           https://pbs.twimg.com/ext_tw_video_thumb/1582409644684857344/pu/img/DTBssXAUDDM1Q_f1.jpg\n",
      "           https://pbs.twimg.com/ext_tw_video_thumb/1596101418762518529/pu/img/obN6vG3xb8_go01w.jpg\n",
      "           https://pbs.twimg.com/ext_tw_video_thumb/1580937487727443969/pu/img/b3Val9Pps3g5FTkM.jpg\n",
      "           https://pbs.twimg.com/ext_tw_video_thumb/1587132458994225152/pu/img/AIHHrlFC3Mr887uv.jpg\n",
      "           https://pbs.twimg.com/ext_tw_video_thumb/1596885335656497153/pu/img/Od0FGny1Qt-8wFg-.jpg\n"
     ]
    }
   ],
   "source": [
    "twitter.print_results()"
   ]
  },
  {
   "cell_type": "code",
   "execution_count": 7,
   "metadata": {},
   "outputs": [],
   "source": [
    "twitter.quit_browser()"
   ]
  }
 ],
 "metadata": {
  "kernelspec": {
   "display_name": ".venv",
   "language": "python",
   "name": "python3"
  },
  "language_info": {
   "codemirror_mode": {
    "name": "ipython",
    "version": 3
   },
   "file_extension": ".py",
   "mimetype": "text/x-python",
   "name": "python",
   "nbconvert_exporter": "python",
   "pygments_lexer": "ipython3",
   "version": "3.8.10"
  }
 },
 "nbformat": 4,
 "nbformat_minor": 2
}
